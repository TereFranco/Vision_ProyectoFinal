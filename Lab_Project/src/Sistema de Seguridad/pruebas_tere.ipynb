{
 "cells": [
  {
   "cell_type": "code",
   "execution_count": 2,
   "metadata": {},
   "outputs": [],
   "source": [
    "from typing import List\n",
    "import numpy as np\n",
    "import imageio\n",
    "import cv2\n",
    "import copy\n",
    "import glob\n",
    "import os\n",
    "import pandas as pd\n",
    "import matplotlib.pyplot as plt\n",
    "from Figure import Figure"
   ]
  },
  {
   "cell_type": "code",
   "execution_count": 3,
   "metadata": {},
   "outputs": [],
   "source": [
    "def show_image(name,img,key=500):\n",
    "    cv2.imshow(f'{name}',img)\n",
    "    cv2.waitKey(key)\n",
    "    cv2.destroyAllWindows()\n",
    "\n",
    "def write_image(path,img):\n",
    "    cv2.imwrite(path,img)"
   ]
  },
  {
   "cell_type": "code",
   "execution_count": 4,
   "metadata": {},
   "outputs": [
    {
     "name": "stderr",
     "output_type": "stream",
     "text": [
      "C:\\Users\\mtfra\\AppData\\Local\\Temp\\ipykernel_17104\\23946259.py:4: DeprecationWarning: Starting with ImageIO v3 the behavior of this function will switch to that of iio.v3.imread. To keep the current behavior (and make this warning disappear) use `import imageio.v2 as imageio` or call `imageio.v2.imread` directly.\n",
      "  img = imageio.imread(path)\n"
     ]
    }
   ],
   "source": [
    "#replicar los pasos de los patrones de detección en la foto\n",
    "#leemos la foto\n",
    "path = \"Patterns\\green_square.jpg\"\n",
    "img = imageio.imread(path)\n",
    "# si traducimos al espacio hsv en vez de meterle los espacios rgb la comparación is_similar funciona, y lo detecta como un cuadrado verde\n",
    "fig = Figure(\"square\", \"green\", (50, 85, 55),  np.array([40, 100, 50]), np.array([70, 255, 255]), 4) #cambiarlo a rango de color hsv\n"
   ]
  },
  {
   "cell_type": "code",
   "execution_count": 6,
   "metadata": {},
   "outputs": [
    {
     "name": "stdout",
     "output_type": "stream",
     "text": [
      "(34, 82, 61)\n",
      "color medio (34, 82, 61)\n",
      "La figura detectada es similar al modelo teórico.\n",
      "(34, 89, 65)\n",
      "color medio (34, 89, 65)\n",
      "La figura detectada es similar al modelo teórico.\n",
      "(35, 86, 65)\n",
      "color medio (35, 86, 65)\n",
      "La figura detectada es similar al modelo teórico.\n",
      "(32, 92, 68)\n",
      "color medio (32, 92, 68)\n",
      "La figura detectada es similar al modelo teórico.\n",
      "(35, 90, 68)\n",
      "color medio (35, 90, 68)\n",
      "La figura detectada es similar al modelo teórico.\n",
      "(37, 92, 70)\n",
      "color medio (37, 92, 70)\n",
      "La figura detectada es similar al modelo teórico.\n"
     ]
    }
   ],
   "source": [
    "# Convertir a espacio HSV\n",
    "hsv = cv2.cvtColor(img, cv2.COLOR_BGR2HSV)\n",
    "\n",
    "# Definir límites del verde\n",
    "lower_green = np.array([40, 100, 50])  # Límite inferior del verde\n",
    "upper_green = np.array([70, 255, 255])\n",
    "\n",
    "# Crear máscara para el verde\n",
    "mask = cv2.inRange(hsv, lower_green, upper_green)\n",
    "result = cv2.bitwise_and(img, img, mask=mask)\n",
    "show_image(\"result\",result, 5000)\n",
    "# Convertir a escala de grises y encontrar contornos\n",
    "kernel = np.ones((5, 5), np.uint8) #Dimensiones del kernel \n",
    "eroded = cv2.erode(mask, kernel, iterations=2)\n",
    "show_image(\"eroded\", eroded)\n",
    "contours, _ = cv2.findContours(eroded, cv2.RETR_TREE, cv2.CHAIN_APPROX_SIMPLE)\n",
    "\n",
    "# Procesar cada contorno\n",
    "for contour in contours:\n",
    "    # Aproximar el contorno para encontrar esquinas\n",
    "    epsilon = 0.02 * cv2.arcLength(contour, True)\n",
    "    approx = cv2.approxPolyDP(contour, epsilon, True)\n",
    "\n",
    "    # Calcular el número de vértices\n",
    "    n_vertex = len(approx)\n",
    "    #print(\"num vertices\", n_vertex)\n",
    "    if n_vertex == 4:\n",
    "        # Calcular el color promedio dentro del contorno\n",
    "        mask = np.zeros(eroded.shape, dtype=np.uint8)\n",
    "        cv2.drawContours(mask, [contour], -1, 255, -1)\n",
    "        #show_image(\"mask\",mask)\n",
    "        #TODO ESTO ESTA EN HSV Y ESTOY COMPARANDO EN RGB DENTRO DE LA CLASE FIGURE\n",
    "        mean_color = cv2.mean(img, mask=mask)[:3]  # Ignorar canal alfa si existe\n",
    "        mean_color = tuple(map(int, mean_color))   # Convertir a enteros\n",
    "        \n",
    "        print(mean_color)\n",
    "        # Comparar con la figura teórica, vemos aquí el is similar\n",
    "        if fig.is_similar(mean_color, n_vertex):\n",
    "            print(\"color medio\", mean_color)\n",
    "            print(\"La figura detectada es similar al modelo teórico.\")\n",
    "       \n",
    "    \n",
    "\n"
   ]
  },
  {
   "cell_type": "code",
   "execution_count": null,
   "metadata": {},
   "outputs": [],
   "source": []
  },
  {
   "cell_type": "code",
   "execution_count": null,
   "metadata": {},
   "outputs": [],
   "source": []
  }
 ],
 "metadata": {
  "kernelspec": {
   "display_name": "base",
   "language": "python",
   "name": "python3"
  },
  "language_info": {
   "codemirror_mode": {
    "name": "ipython",
    "version": 3
   },
   "file_extension": ".py",
   "mimetype": "text/x-python",
   "name": "python",
   "nbconvert_exporter": "python",
   "pygments_lexer": "ipython3",
   "version": "3.9.19"
  }
 },
 "nbformat": 4,
 "nbformat_minor": 2
}
