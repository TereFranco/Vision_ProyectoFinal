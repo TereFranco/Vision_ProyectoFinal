{
 "cells": [
  {
   "cell_type": "code",
   "execution_count": 1,
   "metadata": {},
   "outputs": [],
   "source": [
    "from typing import List\n",
    "import numpy as np\n",
    "import imageio\n",
    "import cv2\n",
    "import copy\n",
    "import glob\n",
    "import os\n",
    "import pandas as pd\n",
    "import matplotlib.pyplot as plt"
   ]
  },
  {
   "cell_type": "code",
   "execution_count": 2,
   "metadata": {},
   "outputs": [],
   "source": [
    "def load_images(filenames: List) -> List:\n",
    "    return [imageio.imread(filename) for filename in filenames]"
   ]
  },
  {
   "cell_type": "code",
   "execution_count": 3,
   "metadata": {},
   "outputs": [],
   "source": [
    "def create_imgs_path(num_images: int):\n",
    "    imgs_path = []\n",
    "    for i in range(num_images):\n",
    "        imgs_path.append(f\"Images_calibration/Input/captured_image_{i}.jpg\")\n",
    "    return imgs_path"
   ]
  },
  {
   "cell_type": "code",
   "execution_count": 4,
   "metadata": {},
   "outputs": [
    {
     "name": "stderr",
     "output_type": "stream",
     "text": [
      "C:\\Users\\mtfra\\AppData\\Local\\Temp\\ipykernel_18660\\283608422.py:2: DeprecationWarning: Starting with ImageIO v3 the behavior of this function will switch to that of iio.v3.imread. To keep the current behavior (and make this warning disappear) use `import imageio.v2 as imageio` or call `imageio.v2.imread` directly.\n",
      "  return [imageio.imread(filename) for filename in filenames]\n"
     ]
    }
   ],
   "source": [
    "imgs_path = create_imgs_path(10)\n",
    "imgs = load_images(imgs_path)\n",
    "\n"
   ]
  },
  {
   "cell_type": "code",
   "execution_count": 5,
   "metadata": {},
   "outputs": [],
   "source": [
    "# TODO Find corners with cv2.findChessboardCorners()\n",
    "bad_img_idxs = []\n",
    "corners = []\n",
    "for i,img in enumerate(imgs):\n",
    "    corners_img = cv2.findChessboardCorners(img,(7,7), None)\n",
    "    if corners_img[0]:\n",
    "        corners.append(corners_img)\n",
    "    else:\n",
    "        bad_img_idxs.append(i)\n",
    "\n",
    "imgs = [img for idx, img in enumerate(imgs) if idx not in bad_img_idxs]"
   ]
  },
  {
   "cell_type": "code",
   "execution_count": 6,
   "metadata": {},
   "outputs": [],
   "source": [
    "corners_copy = copy.deepcopy(corners)\n",
    "criteria = (cv2.TERM_CRITERIA_EPS + cv2.TERM_CRITERIA_MAX_ITER, 30, 0.001)\n",
    "\n",
    "# TODO To refine corner detections with cv2.cornerSubPix() you need to input greyscale images. Build a list containing greyscale images.\n",
    "imgs_grey = []\n",
    "for img in imgs:\n",
    "    img_grey = cv2.cvtColor(img,cv2.COLOR_BGR2GRAY)\n",
    "    imgs_grey.append(img_grey)\n",
    "\n",
    "corners_refined = [cv2.cornerSubPix(i, cor[1], (7, 7), (-1, -1), criteria) if cor[0] else [] for i, cor in zip(imgs_grey, corners_copy)]"
   ]
  },
  {
   "cell_type": "code",
   "execution_count": 7,
   "metadata": {},
   "outputs": [],
   "source": [
    "imgs_copy = copy.deepcopy(imgs)"
   ]
  },
  {
   "cell_type": "code",
   "execution_count": 8,
   "metadata": {},
   "outputs": [
    {
     "data": {
      "text/plain": [
       "8"
      ]
     },
     "execution_count": 8,
     "metadata": {},
     "output_type": "execute_result"
    }
   ],
   "source": [
    "len(imgs_copy)"
   ]
  },
  {
   "cell_type": "code",
   "execution_count": 9,
   "metadata": {},
   "outputs": [],
   "source": [
    "# TODO Use cv2.drawChessboardCorners() to draw the cornes\n",
    "for i in range(len(imgs_copy)):\n",
    "    cv2.drawChessboardCorners(imgs_copy[i], (7,7), corners_refined[i], True)"
   ]
  },
  {
   "cell_type": "code",
   "execution_count": 10,
   "metadata": {},
   "outputs": [],
   "source": [
    "# TODO Show images and save when needed\n",
    "def show_image(name,img,key=500):\n",
    "    cv2.imshow(f'{name}',img)\n",
    "    cv2.waitKey(key)\n",
    "    cv2.destroyAllWindows()\n",
    "\n",
    "def write_image(path,img):\n",
    "    cv2.imwrite(path,img)"
   ]
  },
  {
   "cell_type": "code",
   "execution_count": 11,
   "metadata": {},
   "outputs": [],
   "source": [
    "path_inicial = \"Images_calibration/output/\"\n",
    "if not os.path.exists(path_inicial):\n",
    "    os.makedirs(path_inicial)\n",
    "for i in range(len(imgs_copy)):\n",
    "    complete_path = os.path.join(path_inicial,f\"calibrated{i}.jpg\")\n",
    "    show_image(complete_path,imgs_copy[i])\n",
    "    write_image(complete_path,imgs_copy[i])"
   ]
  },
  {
   "cell_type": "code",
   "execution_count": 12,
   "metadata": {},
   "outputs": [],
   "source": [
    "# TODO Design the method. It should return a np.array with np.float32 elements\n",
    "def get_chessboard_points(chessboard_shape, dx, dy):\n",
    "    eje_x = chessboard_shape[1]\n",
    "    eje_y = chessboard_shape[0] \n",
    "    coord_array = np.zeros((eje_x * eje_y, 3), dtype=np.float32)\n",
    "    index_x = 0\n",
    "    for j in range(eje_x):\n",
    "        for i in range(eje_y):\n",
    "            coord_array[index_x][0] = j*dy \n",
    "            coord_array[index_x][1] = i*dx \n",
    "            index_x += 1\n",
    "    return coord_array"
   ]
  },
  {
   "cell_type": "code",
   "execution_count": 13,
   "metadata": {},
   "outputs": [],
   "source": [
    "chessboard_points = get_chessboard_points((7, 7), 17, 17)"
   ]
  },
  {
   "cell_type": "code",
   "execution_count": 14,
   "metadata": {},
   "outputs": [],
   "source": [
    "# Filter data and get only those with adequate detections\n",
    "valid_corners = [cor[1] for cor in corners if cor[0]]\n",
    "# Convert list to numpy array\n",
    "valid_corners = np.asarray(valid_corners, dtype=np.float32)"
   ]
  },
  {
   "cell_type": "code",
   "execution_count": 15,
   "metadata": {},
   "outputs": [],
   "source": [
    "# TODO\n",
    "obj_points = [chessboard_points for _ in range(len(valid_corners))]\n",
    "\n",
    "rms, intrinsics, dist_coeffs, rvecs, tvecs = cv2.calibrateCamera(obj_points, np.squeeze(valid_corners, axis=2), img_grey.shape[::-1], None, None)\n",
    "\n",
    "# Obtain extrinsics\n",
    "extrinsics = list(map(lambda rvec, tvec: np.hstack((cv2.Rodrigues(rvec)[0], tvec)), rvecs, tvecs))"
   ]
  },
  {
   "cell_type": "code",
   "execution_count": 16,
   "metadata": {},
   "outputs": [
    {
     "name": "stdout",
     "output_type": "stream",
     "text": [
      "Intrinsics:\n",
      " [[1.43223718e+03 0.00000000e+00 6.72773648e+02]\n",
      " [0.00000000e+00 1.43400571e+03 3.61043530e+02]\n",
      " [0.00000000e+00 0.00000000e+00 1.00000000e+00]]\n",
      "Distortion coefficients:\n",
      " [[-1.97408932e-01  3.42824122e+00 -6.73726222e-03  3.08120953e-03\n",
      "  -1.90945349e+01]]\n",
      "Root mean squared reprojection error:\n",
      " 1.536751060804123\n"
     ]
    }
   ],
   "source": [
    "# Print outputs\n",
    "print(\"Intrinsics:\\n\", intrinsics)\n",
    "print(\"Distortion coefficients:\\n\", dist_coeffs)\n",
    "print(\"Root mean squared reprojection error:\\n\", rms)"
   ]
  }
 ],
 "metadata": {
  "kernelspec": {
   "display_name": "base",
   "language": "python",
   "name": "python3"
  },
  "language_info": {
   "codemirror_mode": {
    "name": "ipython",
    "version": 3
   },
   "file_extension": ".py",
   "mimetype": "text/x-python",
   "name": "python",
   "nbconvert_exporter": "python",
   "pygments_lexer": "ipython3",
   "version": "3.9.19"
  }
 },
 "nbformat": 4,
 "nbformat_minor": 2
}
