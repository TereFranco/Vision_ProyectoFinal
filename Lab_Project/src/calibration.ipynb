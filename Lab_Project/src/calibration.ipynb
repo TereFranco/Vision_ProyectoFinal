{
 "cells": [
  {
   "cell_type": "code",
   "execution_count": 1,
   "metadata": {},
   "outputs": [],
   "source": [
    "from typing import List\n",
    "import numpy as np\n",
    "import imageio\n",
    "import cv2\n",
    "import copy\n",
    "import glob\n",
    "import os\n",
    "import pandas as pd\n",
    "import matplotlib.pyplot as plt"
   ]
  },
  {
   "cell_type": "code",
   "execution_count": 2,
   "metadata": {},
   "outputs": [],
   "source": [
    "def load_images(filenames: List) -> List:\n",
    "    return [imageio.imread(filename) for filename in filenames]"
   ]
  },
  {
   "cell_type": "code",
   "execution_count": 3,
   "metadata": {},
   "outputs": [],
   "source": [
    "def create_imgs_path(num_images: int):\n",
    "    imgs_path = []\n",
    "    for i in range(num_images):\n",
    "        imgs_path.append(f\"Images/captured_image_{i}.jpg\")\n",
    "    return imgs_path"
   ]
  },
  {
   "cell_type": "code",
   "execution_count": 4,
   "metadata": {},
   "outputs": [
    {
     "name": "stderr",
     "output_type": "stream",
     "text": [
      "C:\\Users\\mtfra\\AppData\\Local\\Temp\\ipykernel_22284\\283608422.py:2: DeprecationWarning: Starting with ImageIO v3 the behavior of this function will switch to that of iio.v3.imread. To keep the current behavior (and make this warning disappear) use `import imageio.v2 as imageio` or call `imageio.v2.imread` directly.\n",
      "  return [imageio.imread(filename) for filename in filenames]\n"
     ]
    }
   ],
   "source": [
    "imgs_path = create_imgs_path(27)\n",
    "imgs = load_images(imgs_path)\n",
    "\n"
   ]
  },
  {
   "cell_type": "code",
   "execution_count": null,
   "metadata": {},
   "outputs": [],
   "source": [
    "# TODO Find corners with cv2.findChessboardCorners()\n",
    "bad_img_idxs = []\n",
    "corners = []\n",
    "for i,img in enumerate(imgs):\n",
    "    corners_img = cv2.findChessboardCorners(img,(7,7), None)\n",
    "    if corners_img[0]:\n",
    "        corners.append(corners_img)\n",
    "    else:\n",
    "        bad_img_idxs.append(i)\n",
    "\n",
    "imgs = [img for idx, img in enumerate(imgs) if idx not in bad_img_idxs]"
   ]
  },
  {
   "cell_type": "code",
   "execution_count": 6,
   "metadata": {},
   "outputs": [],
   "source": [
    "corners_copy = copy.deepcopy(corners)\n",
    "criteria = (cv2.TERM_CRITERIA_EPS + cv2.TERM_CRITERIA_MAX_ITER, 30, 0.01)\n",
    "\n",
    "# TODO To refine corner detections with cv2.cornerSubPix() you need to input greyscale images. Build a list containing greyscale images.\n",
    "imgs_grey = []\n",
    "for img in imgs:\n",
    "    img_grey = cv2.cvtColor(img,cv2.COLOR_BGR2GRAY)\n",
    "    imgs_grey.append(img_grey)\n",
    "\n",
    "corners_refined = [cv2.cornerSubPix(i, cor[1], (7, 7), (-1, -1), criteria) if cor[0] else [] for i, cor in zip(imgs_grey, corners_copy)]"
   ]
  },
  {
   "cell_type": "code",
   "execution_count": 7,
   "metadata": {},
   "outputs": [],
   "source": [
    "imgs_copy = copy.deepcopy(imgs)"
   ]
  },
  {
   "cell_type": "code",
   "execution_count": 8,
   "metadata": {},
   "outputs": [
    {
     "data": {
      "text/plain": [
       "20"
      ]
     },
     "execution_count": 8,
     "metadata": {},
     "output_type": "execute_result"
    }
   ],
   "source": [
    "len(imgs_copy)"
   ]
  },
  {
   "cell_type": "code",
   "execution_count": 9,
   "metadata": {},
   "outputs": [],
   "source": [
    "# TODO Use cv2.drawChessboardCorners() to draw the cornes\n",
    "for i in range(len(imgs_copy)):\n",
    "    cv2.drawChessboardCorners(imgs_copy[i], (7,7), corners_refined[i], True)"
   ]
  },
  {
   "cell_type": "code",
   "execution_count": 10,
   "metadata": {},
   "outputs": [],
   "source": [
    "# TODO Show images and save when needed\n",
    "def show_image(name,img,key=500):\n",
    "    cv2.imshow(f'{name}',img)\n",
    "    cv2.waitKey(key)\n",
    "    cv2.destroyAllWindows()\n",
    "\n",
    "def write_image(path,img):\n",
    "    cv2.imwrite(path,img)"
   ]
  },
  {
   "cell_type": "code",
   "execution_count": 11,
   "metadata": {},
   "outputs": [],
   "source": [
    "path_inicial = \"Images/\"\n",
    "if not os.path.exists(path_inicial):\n",
    "    os.makedirs(path_inicial)\n",
    "for i in range(len(imgs_copy)):\n",
    "    complete_path = os.path.join(path_inicial,f\"calibrated{i}.jpg\")\n",
    "    show_image(complete_path,imgs_copy[i])\n",
    "    write_image(complete_path,imgs_copy[i])"
   ]
  }
 ],
 "metadata": {
  "kernelspec": {
   "display_name": "base",
   "language": "python",
   "name": "python3"
  },
  "language_info": {
   "codemirror_mode": {
    "name": "ipython",
    "version": 3
   },
   "file_extension": ".py",
   "mimetype": "text/x-python",
   "name": "python",
   "nbconvert_exporter": "python",
   "pygments_lexer": "ipython3",
   "version": "3.9.19"
  }
 },
 "nbformat": 4,
 "nbformat_minor": 2
}
